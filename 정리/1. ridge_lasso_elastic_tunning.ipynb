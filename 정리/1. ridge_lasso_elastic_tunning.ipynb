{
 "cells": [
  {
   "cell_type": "markdown",
   "metadata": {},
   "source": [
    "## 라이브러리 불러오기"
   ]
  },
  {
   "cell_type": "code",
   "execution_count": null,
   "metadata": {},
   "outputs": [],
   "source": [
    "import random\n",
    "import pandas as pd\n",
    "import numpy as np\n",
    "import os\n",
    "\n",
    "# 사이킷런에서 랜덤포레스트 모델 불러오기\n",
    "from sklearn.ensemble import RandomForestRegressor\n",
    "\n",
    "# 경고 메세지 무시하기\n",
    "import warnings\n",
    "warnings.filterwarnings(action='ignore') "
   ]
  },
  {
   "cell_type": "code",
   "execution_count": null,
   "metadata": {},
   "outputs": [],
   "source": [
    "import matplotlib.pyplot as plt\n",
    "\n",
    "# 브라우저에서 바로 그려지도록(그래프가 화면에 뜨지 않을 때)\n",
    "%matplotlib inline\n",
    "\n",
    "# 그래프(figure)에 retina display 적용\n",
    "%config InlineBackend.figure_format = 'retina'\n",
    "\n",
    "# Colab 의 한글 폰트 설정(나눔고딕체)\n",
    "plt.rc('font', family='NanumGothic')\n",
    "\n",
    "# 조용하 강사님이 올려주신 코드(한글화-matplotlib)\n",
    "!pip install koreanize_matplotlib\n",
    "import koreanize_matplotlib"
   ]
  },
  {
   "cell_type": "markdown",
   "metadata": {},
   "source": [
    "## 데이터 불러오기"
   ]
  },
  {
   "cell_type": "code",
   "execution_count": null,
   "metadata": {},
   "outputs": [],
   "source": [
    "train = pd.read_csv('train.csv',encoding='cp949')\n",
    "test = pd.read_csv('test.csv',encoding='cp949')\n",
    "submission=pd.read_csv('sample_submission.csv',encoding='cp949')"
   ]
  },
  {
   "cell_type": "code",
   "execution_count": null,
   "metadata": {},
   "outputs": [],
   "source": [
    "# 컬럼명 변환을 위한 리스트 할당\n",
    "train_col = ['num', 'date_time', 'power', 'temp', 'wind', 'hum', 'rain', 'sun', 'cooler', 'solar']\n",
    "test_col = ['num', 'date_time', 'temp', 'wind', 'hum', 'rain', 'sun', 'cooler', 'solar']\n",
    "train.columns=train_col\n",
    "test.columns=test_col"
   ]
  },
  {
   "cell_type": "markdown",
   "metadata": {},
   "source": [
    "## 전처리"
   ]
  },
  {
   "cell_type": "markdown",
   "metadata": {},
   "source": [
    "### 날짜 전처리\n",
    "\n",
    "- 파생변수, 데이터 타입 변경"
   ]
  },
  {
   "cell_type": "code",
   "execution_count": null,
   "metadata": {},
   "outputs": [],
   "source": [
    "def make_time(train):\n",
    "    \"\"\"\n",
    "    시간 관련 변수를 추가하기 위한 함수\n",
    "    \"\"\"\n",
    "    train['date_time'] = pd.to_datetime(train.date_time)\n",
    "    \n",
    "    train['month'] = train.date_time.dt.month                    # 월(숫자)\n",
    "    train['day'] = train.date_time.dt.day                        # 일(숫자)\n",
    "    train['hour'] = train.date_time.dt.hour                      # 시(숫자)\n",
    "    train['weekday'] = train.date_time.dt.weekday                # 요일(숫자)\n",
    "    train['dayofyear'] = train.date_time.dt.dayofyear            # 연 기준 몇일째(숫자)\n",
    "    #train['week']=train.date_time.dt.weekofyear\n",
    "    \n",
    "    ## cyclical encoding\n",
    "    train['sin_time'] = np.sin(2*np.pi*train.hour/24)\n",
    "    train['cos_time'] = np.cos(2*np.pi*train.hour/24)\n",
    "    \n",
    "    ### 공휴일 변수 추가\n",
    "    train['holiday'] = train.apply(lambda x : 0 if x['day']<5 else 1, axis = 1)\n",
    "    train.loc[('2020-08-17'<=train.date_time)&(train.date_time<'2020-08-18'), 'holiday'] = 1\n",
    "    \n",
    "    \n",
    "    ### 날씨 변수 추가\n",
    "    train['THI'] = 1.9*train['temp'] - 0.55*(1-train['hum'])*(1.8*train['temp']-26)+32                                # 불쾌지수\n",
    "    train['chill']=13.12+0.6215*train['temp']-11.37*train['wind']**0.16+0.3965*train['wind']**0.16*train['temp']        # 체감온도\n",
    "    \n",
    "    train['냉방도시'] = 0  # 냉방이 필요하지 않은 도시로 초기화\n",
    "\n",
    "    # 여름 동안 냉방이 필요한 도시로 설정\n",
    "    train.loc[(train['temp'] > 30) & (train['hum'] > 70), '냉방도시'] = 1\n",
    "    \n",
    "    return train"
   ]
  },
  {
   "cell_type": "markdown",
   "metadata": {},
   "source": [
    "### 날씨 전처리\n",
    "\n",
    "- 파생변수, 결측치"
   ]
  },
  {
   "cell_type": "code",
   "execution_count": null,
   "metadata": {},
   "outputs": [],
   "source": [
    "def make_nan(test):\n",
    "    \"\"\"\n",
    "    날씨 관련 결측치를 처리하기 위한 함수\n",
    "    \"\"\"\n",
    "    \n",
    "    # 결측치 처리\n",
    "    test['wind']=test['wind'].interpolate(method='linear')\n",
    "    test['rain']=test['rain'].interpolate(method='linear')\n",
    "    test['sun']=test['sun'].interpolate(method='linear')\n",
    "    \n",
    "    test['temp']=test['temp'].interpolate(method='polynomial',order=3).fillna(method='ffill')\n",
    "    test['hum']=test['hum'].interpolate(method='polynomial',order=3).fillna(method='ffill')\n",
    "    \n",
    "    test['cooler']=test['cooler'].fillna(0)\n",
    "    test['solar']=test['solar'].fillna(0)\n",
    "    \n",
    "    return test"
   ]
  },
  {
   "cell_type": "code",
   "execution_count": null,
   "metadata": {},
   "outputs": [],
   "source": [
    "def make_weather(data):\n",
    "    weather=data.groupby(['num','dayofyear'])['temp'].agg({'max','min','mean'}).reset_index()\n",
    "    weather['temp_range']=weather['max']-weather['min']\n",
    "    \n",
    "    data=pd.merge(data,weather,on=['num','dayofyear'],how='left')\n",
    "    return data\n",
    "    "
   ]
  },
  {
   "cell_type": "code",
   "execution_count": null,
   "metadata": {},
   "outputs": [],
   "source": [
    "train = make_time(train)\n",
    "test=make_nan(test)\n",
    "test = make_time(test)\n",
    "train = make_weather(train)\n",
    "test=make_weather(test)"
   ]
  },
  {
   "cell_type": "markdown",
   "metadata": {},
   "source": [
    "### 전력사용량 전처리\n",
    "\n",
    "- 파생변수"
   ]
  },
  {
   "cell_type": "code",
   "execution_count": null,
   "metadata": {},
   "outputs": [],
   "source": [
    "from tqdm import tqdm\n",
    "\n",
    "def make_power(data):\n",
    "    \"\"\"\n",
    "    전력 사용량 관련 변수를 추가하기 위한 함수\n",
    "    \"\"\"\n",
    "    \n",
    "    # 건물별, 요일별, 시간별 발전량 평균\n",
    "    power_mean = pd.pivot_table(data, values = 'power', index = ['num', 'hour', 'day'], aggfunc = np.mean).reset_index()\n",
    "    tqdm.pandas()\n",
    "    data['day_hour_mean'] = data.progress_apply(lambda x : power_mean.loc[(power_mean.num == x['num']) & (power_mean.hour == x['hour']) & (power_mean.day == x['day']) ,'power'].values[0], axis = 1)\n",
    "    \n",
    "    # 건물별 시간별 발전량 평균 넣어주기\n",
    "    power_hour_mean = pd.pivot_table(data, values = 'power', index = ['num', 'hour'], aggfunc = np.mean).reset_index()\n",
    "    tqdm.pandas()\n",
    "    data['hour_mean'] = data.progress_apply(lambda x : power_hour_mean.loc[(power_hour_mean.num == x['num']) & (power_hour_mean.hour == x['hour']) ,'power'].values[0], axis = 1)\n",
    "    \n",
    "    # 건물별 시간별 발전량 표준편차 넣어주기\n",
    "    power_hour_std = pd.pivot_table(data, values = 'power', index = ['num', 'hour'], aggfunc = np.std).reset_index()\n",
    "    data['hour_std'] = data.progress_apply(lambda x : power_hour_std.loc[(power_hour_std.num == x['num']) & (power_hour_std.hour == x['hour']) ,'power'].values[0], axis = 1)\n",
    "    return data"
   ]
  },
  {
   "cell_type": "code",
   "execution_count": null,
   "metadata": {},
   "outputs": [],
   "source": [
    "train = make_power(train)"
   ]
  },
  {
   "cell_type": "markdown",
   "metadata": {},
   "source": [
    "# 횡단면 분석"
   ]
  },
  {
   "cell_type": "markdown",
   "metadata": {},
   "source": [
    "## Ridge 모델"
   ]
  },
  {
   "cell_type": "code",
   "execution_count": null,
   "metadata": {},
   "outputs": [],
   "source": []
  },
  {
   "cell_type": "markdown",
   "metadata": {},
   "source": [
    "## Lasso 모델"
   ]
  },
  {
   "cell_type": "markdown",
   "metadata": {},
   "source": []
  },
  {
   "cell_type": "markdown",
   "metadata": {},
   "source": [
    "## Elastic 모델"
   ]
  },
  {
   "cell_type": "markdown",
   "metadata": {},
   "source": []
  },
  {
   "cell_type": "markdown",
   "metadata": {},
   "source": [
    "## Xgboost 모델"
   ]
  },
  {
   "cell_type": "markdown",
   "metadata": {},
   "source": []
  },
  {
   "cell_type": "markdown",
   "metadata": {},
   "source": [
    "## Gradient Boosting"
   ]
  },
  {
   "cell_type": "markdown",
   "metadata": {},
   "source": []
  },
  {
   "cell_type": "markdown",
   "metadata": {},
   "source": [
    "## Catboost모델"
   ]
  },
  {
   "cell_type": "markdown",
   "metadata": {},
   "source": []
  },
  {
   "cell_type": "markdown",
   "metadata": {},
   "source": [
    "# 시계열 관련 모델"
   ]
  },
  {
   "cell_type": "markdown",
   "metadata": {},
   "source": [
    "## Arima"
   ]
  },
  {
   "cell_type": "code",
   "execution_count": null,
   "metadata": {},
   "outputs": [],
   "source": []
  },
  {
   "cell_type": "markdown",
   "metadata": {},
   "source": [
    "# Prophet모델"
   ]
  },
  {
   "cell_type": "code",
   "execution_count": null,
   "metadata": {},
   "outputs": [],
   "source": []
  },
  {
   "cell_type": "markdown",
   "metadata": {},
   "source": []
  }
 ],
 "metadata": {
  "language_info": {
   "name": "python"
  }
 },
 "nbformat": 4,
 "nbformat_minor": 2
}
